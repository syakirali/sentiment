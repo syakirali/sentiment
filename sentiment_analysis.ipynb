{
 "cells": [
  {
   "cell_type": "code",
   "execution_count": null,
   "id": "72d0d4fe",
   "metadata": {},
   "outputs": [],
   "source": [
    "import sys\n",
    "import os\n",
    "from google.colab import drive\n",
    "\n",
    "drive.mount('/content/drive')\n",
    "\n",
    "!pip install sastrawi gensim\n",
    "\n",
    "!git clone https://github.com/syakirali/textanalysis\n",
    "%cd textanalysis\n",
    "sys.path.append('../')"
   ]
  },
  {
   "cell_type": "code",
   "execution_count": 2,
   "id": "27ae6fbd",
   "metadata": {},
   "outputs": [],
   "source": [
    "from analysis.utils import get_sqlite_data, DEFAULT_DB, ROOT_PATH\n",
    "from analysis.preprocessing import PreprocessingFactory, Preprocessing\n",
    "\n",
    "data = get_sqlite_data()\n",
    "data = data[:10]"
   ]
  },
  {
   "cell_type": "code",
   "execution_count": null,
   "id": "da12bf86",
   "metadata": {},
   "outputs": [],
   "source": [
    "tweets = [{ 'tweet_id': data['tweet_id'][i], 'text': text } for i, text in enumerate(data[\"text\"])]"
   ]
  },
  {
   "cell_type": "code",
   "execution_count": null,
   "id": "832357f0",
   "metadata": {},
   "outputs": [],
   "source": [
    "factory = PreprocessingFactory(tweets)\n",
    "cleaned = factory.clean_all()\n"
   ]
  }
 ],
 "metadata": {
  "kernelspec": {
   "display_name": "Python 3 (ipykernel)",
   "language": "python",
   "name": "python3"
  },
  "language_info": {
   "codemirror_mode": {
    "name": "ipython",
    "version": 3
   },
   "file_extension": ".py",
   "mimetype": "text/x-python",
   "name": "python",
   "nbconvert_exporter": "python",
   "pygments_lexer": "ipython3",
   "version": "3.10.4"
  }
 },
 "nbformat": 4,
 "nbformat_minor": 5
}
